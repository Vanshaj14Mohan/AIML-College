{
 "cells": [
  {
   "cell_type": "code",
   "execution_count": 13,
   "id": "cc6d4a76",
   "metadata": {},
   "outputs": [],
   "source": [
    "import numpy as np\n",
    "import pandas as pd\n",
    "import matplotlib.pyplot as plt\n",
    "import plotly.express as px\n",
    "import seaborn as sns\n",
    "import altair as alt\n",
    "from sklearn.model_selection import train_test_split\n",
    "from sklearn.tree import DecisionTreeClassifier, export_text, plot_tree"
   ]
  },
  {
   "cell_type": "code",
   "execution_count": 3,
   "id": "07c2b1a2",
   "metadata": {},
   "outputs": [],
   "source": [
    "df = pd.read_csv(r\"E:\\AIML College\\Assignment Seven\\decision_tree.csv\")"
   ]
  },
  {
   "cell_type": "code",
   "execution_count": 4,
   "id": "cf62c881",
   "metadata": {},
   "outputs": [
    {
     "data": {
      "text/html": [
       "<div>\n",
       "<style scoped>\n",
       "    .dataframe tbody tr th:only-of-type {\n",
       "        vertical-align: middle;\n",
       "    }\n",
       "\n",
       "    .dataframe tbody tr th {\n",
       "        vertical-align: top;\n",
       "    }\n",
       "\n",
       "    .dataframe thead th {\n",
       "        text-align: right;\n",
       "    }\n",
       "</style>\n",
       "<table border=\"1\" class=\"dataframe\">\n",
       "  <thead>\n",
       "    <tr style=\"text-align: right;\">\n",
       "      <th></th>\n",
       "      <th>Employee_ID</th>\n",
       "      <th>Age</th>\n",
       "      <th>Gender</th>\n",
       "      <th>Marital_Status</th>\n",
       "      <th>Department</th>\n",
       "      <th>Job_Role</th>\n",
       "      <th>Job_Level</th>\n",
       "      <th>Monthly_Income</th>\n",
       "      <th>Hourly_Rate</th>\n",
       "      <th>Years_at_Company</th>\n",
       "      <th>...</th>\n",
       "      <th>Overtime</th>\n",
       "      <th>Project_Count</th>\n",
       "      <th>Average_Hours_Worked_Per_Week</th>\n",
       "      <th>Absenteeism</th>\n",
       "      <th>Work_Environment_Satisfaction</th>\n",
       "      <th>Relationship_with_Manager</th>\n",
       "      <th>Job_Involvement</th>\n",
       "      <th>Distance_From_Home</th>\n",
       "      <th>Number_of_Companies_Worked</th>\n",
       "      <th>Attrition</th>\n",
       "    </tr>\n",
       "  </thead>\n",
       "  <tbody>\n",
       "    <tr>\n",
       "      <th>0</th>\n",
       "      <td>1</td>\n",
       "      <td>58</td>\n",
       "      <td>Female</td>\n",
       "      <td>Married</td>\n",
       "      <td>IT</td>\n",
       "      <td>Manager</td>\n",
       "      <td>1</td>\n",
       "      <td>15488</td>\n",
       "      <td>28</td>\n",
       "      <td>15</td>\n",
       "      <td>...</td>\n",
       "      <td>No</td>\n",
       "      <td>6</td>\n",
       "      <td>54</td>\n",
       "      <td>17</td>\n",
       "      <td>4</td>\n",
       "      <td>4</td>\n",
       "      <td>4</td>\n",
       "      <td>20</td>\n",
       "      <td>3</td>\n",
       "      <td>No</td>\n",
       "    </tr>\n",
       "    <tr>\n",
       "      <th>1</th>\n",
       "      <td>2</td>\n",
       "      <td>48</td>\n",
       "      <td>Female</td>\n",
       "      <td>Married</td>\n",
       "      <td>Sales</td>\n",
       "      <td>Assistant</td>\n",
       "      <td>5</td>\n",
       "      <td>13079</td>\n",
       "      <td>28</td>\n",
       "      <td>6</td>\n",
       "      <td>...</td>\n",
       "      <td>Yes</td>\n",
       "      <td>2</td>\n",
       "      <td>45</td>\n",
       "      <td>1</td>\n",
       "      <td>4</td>\n",
       "      <td>1</td>\n",
       "      <td>2</td>\n",
       "      <td>25</td>\n",
       "      <td>2</td>\n",
       "      <td>No</td>\n",
       "    </tr>\n",
       "    <tr>\n",
       "      <th>2</th>\n",
       "      <td>3</td>\n",
       "      <td>34</td>\n",
       "      <td>Male</td>\n",
       "      <td>Married</td>\n",
       "      <td>Marketing</td>\n",
       "      <td>Assistant</td>\n",
       "      <td>1</td>\n",
       "      <td>13744</td>\n",
       "      <td>24</td>\n",
       "      <td>24</td>\n",
       "      <td>...</td>\n",
       "      <td>Yes</td>\n",
       "      <td>6</td>\n",
       "      <td>34</td>\n",
       "      <td>2</td>\n",
       "      <td>3</td>\n",
       "      <td>4</td>\n",
       "      <td>4</td>\n",
       "      <td>45</td>\n",
       "      <td>3</td>\n",
       "      <td>No</td>\n",
       "    </tr>\n",
       "    <tr>\n",
       "      <th>3</th>\n",
       "      <td>4</td>\n",
       "      <td>27</td>\n",
       "      <td>Female</td>\n",
       "      <td>Divorced</td>\n",
       "      <td>Marketing</td>\n",
       "      <td>Manager</td>\n",
       "      <td>1</td>\n",
       "      <td>6809</td>\n",
       "      <td>26</td>\n",
       "      <td>10</td>\n",
       "      <td>...</td>\n",
       "      <td>No</td>\n",
       "      <td>9</td>\n",
       "      <td>48</td>\n",
       "      <td>18</td>\n",
       "      <td>2</td>\n",
       "      <td>3</td>\n",
       "      <td>1</td>\n",
       "      <td>35</td>\n",
       "      <td>3</td>\n",
       "      <td>No</td>\n",
       "    </tr>\n",
       "    <tr>\n",
       "      <th>4</th>\n",
       "      <td>5</td>\n",
       "      <td>40</td>\n",
       "      <td>Male</td>\n",
       "      <td>Divorced</td>\n",
       "      <td>Marketing</td>\n",
       "      <td>Executive</td>\n",
       "      <td>1</td>\n",
       "      <td>10206</td>\n",
       "      <td>52</td>\n",
       "      <td>29</td>\n",
       "      <td>...</td>\n",
       "      <td>No</td>\n",
       "      <td>3</td>\n",
       "      <td>33</td>\n",
       "      <td>0</td>\n",
       "      <td>4</td>\n",
       "      <td>1</td>\n",
       "      <td>3</td>\n",
       "      <td>44</td>\n",
       "      <td>3</td>\n",
       "      <td>No</td>\n",
       "    </tr>\n",
       "  </tbody>\n",
       "</table>\n",
       "<p>5 rows × 26 columns</p>\n",
       "</div>"
      ],
      "text/plain": [
       "   Employee_ID  Age  Gender Marital_Status Department   Job_Role  Job_Level  \\\n",
       "0            1   58  Female        Married         IT    Manager          1   \n",
       "1            2   48  Female        Married      Sales  Assistant          5   \n",
       "2            3   34    Male        Married  Marketing  Assistant          1   \n",
       "3            4   27  Female       Divorced  Marketing    Manager          1   \n",
       "4            5   40    Male       Divorced  Marketing  Executive          1   \n",
       "\n",
       "   Monthly_Income  Hourly_Rate  Years_at_Company  ...  Overtime  \\\n",
       "0           15488           28                15  ...        No   \n",
       "1           13079           28                 6  ...       Yes   \n",
       "2           13744           24                24  ...       Yes   \n",
       "3            6809           26                10  ...        No   \n",
       "4           10206           52                29  ...        No   \n",
       "\n",
       "   Project_Count  Average_Hours_Worked_Per_Week  Absenteeism  \\\n",
       "0              6                             54           17   \n",
       "1              2                             45            1   \n",
       "2              6                             34            2   \n",
       "3              9                             48           18   \n",
       "4              3                             33            0   \n",
       "\n",
       "   Work_Environment_Satisfaction  Relationship_with_Manager Job_Involvement  \\\n",
       "0                              4                          4               4   \n",
       "1                              4                          1               2   \n",
       "2                              3                          4               4   \n",
       "3                              2                          3               1   \n",
       "4                              4                          1               3   \n",
       "\n",
       "   Distance_From_Home  Number_of_Companies_Worked  Attrition  \n",
       "0                  20                           3         No  \n",
       "1                  25                           2         No  \n",
       "2                  45                           3         No  \n",
       "3                  35                           3         No  \n",
       "4                  44                           3         No  \n",
       "\n",
       "[5 rows x 26 columns]"
      ]
     },
     "execution_count": 4,
     "metadata": {},
     "output_type": "execute_result"
    }
   ],
   "source": [
    "df.head()"
   ]
  },
  {
   "cell_type": "code",
   "execution_count": 5,
   "id": "7ed9ad75",
   "metadata": {},
   "outputs": [
    {
     "name": "stdout",
     "output_type": "stream",
     "text": [
      "<class 'pandas.core.frame.DataFrame'>\n",
      "RangeIndex: 1000 entries, 0 to 999\n",
      "Data columns (total 26 columns):\n",
      " #   Column                         Non-Null Count  Dtype \n",
      "---  ------                         --------------  ----- \n",
      " 0   Employee_ID                    1000 non-null   int64 \n",
      " 1   Age                            1000 non-null   int64 \n",
      " 2   Gender                         1000 non-null   object\n",
      " 3   Marital_Status                 1000 non-null   object\n",
      " 4   Department                     1000 non-null   object\n",
      " 5   Job_Role                       1000 non-null   object\n",
      " 6   Job_Level                      1000 non-null   int64 \n",
      " 7   Monthly_Income                 1000 non-null   int64 \n",
      " 8   Hourly_Rate                    1000 non-null   int64 \n",
      " 9   Years_at_Company               1000 non-null   int64 \n",
      " 10  Years_in_Current_Role          1000 non-null   int64 \n",
      " 11  Years_Since_Last_Promotion     1000 non-null   int64 \n",
      " 12  Work_Life_Balance              1000 non-null   int64 \n",
      " 13  Job_Satisfaction               1000 non-null   int64 \n",
      " 14  Performance_Rating             1000 non-null   int64 \n",
      " 15  Training_Hours_Last_Year       1000 non-null   int64 \n",
      " 16  Overtime                       1000 non-null   object\n",
      " 17  Project_Count                  1000 non-null   int64 \n",
      " 18  Average_Hours_Worked_Per_Week  1000 non-null   int64 \n",
      " 19  Absenteeism                    1000 non-null   int64 \n",
      " 20  Work_Environment_Satisfaction  1000 non-null   int64 \n",
      " 21  Relationship_with_Manager      1000 non-null   int64 \n",
      " 22  Job_Involvement                1000 non-null   int64 \n",
      " 23  Distance_From_Home             1000 non-null   int64 \n",
      " 24  Number_of_Companies_Worked     1000 non-null   int64 \n",
      " 25  Attrition                      1000 non-null   object\n",
      "dtypes: int64(20), object(6)\n",
      "memory usage: 203.2+ KB\n"
     ]
    }
   ],
   "source": [
    "df.info()"
   ]
  },
  {
   "cell_type": "code",
   "execution_count": 6,
   "id": "61acde8b",
   "metadata": {},
   "outputs": [
    {
     "data": {
      "text/plain": [
       "Index(['Employee_ID', 'Age', 'Gender', 'Marital_Status', 'Department',\n",
       "       'Job_Role', 'Job_Level', 'Monthly_Income', 'Hourly_Rate',\n",
       "       'Years_at_Company', 'Years_in_Current_Role',\n",
       "       'Years_Since_Last_Promotion', 'Work_Life_Balance', 'Job_Satisfaction',\n",
       "       'Performance_Rating', 'Training_Hours_Last_Year', 'Overtime',\n",
       "       'Project_Count', 'Average_Hours_Worked_Per_Week', 'Absenteeism',\n",
       "       'Work_Environment_Satisfaction', 'Relationship_with_Manager',\n",
       "       'Job_Involvement', 'Distance_From_Home', 'Number_of_Companies_Worked',\n",
       "       'Attrition'],\n",
       "      dtype='object')"
      ]
     },
     "execution_count": 6,
     "metadata": {},
     "output_type": "execute_result"
    }
   ],
   "source": [
    "df.columns"
   ]
  },
  {
   "cell_type": "code",
   "execution_count": 7,
   "id": "f7ef0e53",
   "metadata": {},
   "outputs": [
    {
     "data": {
      "text/plain": [
       "Employee_ID                      1000\n",
       "Age                                40\n",
       "Gender                              2\n",
       "Marital_Status                      3\n",
       "Department                          5\n",
       "Job_Role                            4\n",
       "Job_Level                           5\n",
       "Monthly_Income                    971\n",
       "Hourly_Rate                        85\n",
       "Years_at_Company                   29\n",
       "Years_in_Current_Role              14\n",
       "Years_Since_Last_Promotion         10\n",
       "Work_Life_Balance                   4\n",
       "Job_Satisfaction                    5\n",
       "Performance_Rating                  4\n",
       "Training_Hours_Last_Year          100\n",
       "Overtime                            2\n",
       "Project_Count                       9\n",
       "Average_Hours_Worked_Per_Week      30\n",
       "Absenteeism                        20\n",
       "Work_Environment_Satisfaction       4\n",
       "Relationship_with_Manager           4\n",
       "Job_Involvement                     4\n",
       "Distance_From_Home                 49\n",
       "Number_of_Companies_Worked          4\n",
       "Attrition                           2\n",
       "dtype: int64"
      ]
     },
     "execution_count": 7,
     "metadata": {},
     "output_type": "execute_result"
    }
   ],
   "source": [
    "df.nunique()"
   ]
  },
  {
   "cell_type": "code",
   "execution_count": null,
   "id": "9f515844",
   "metadata": {},
   "outputs": [
    {
     "data": {
      "text/plain": [
       "(1000, 26)"
      ]
     },
     "execution_count": 8,
     "metadata": {},
     "output_type": "execute_result"
    }
   ],
   "source": [
    "df.shape #For rows and columns"
   ]
  },
  {
   "cell_type": "code",
   "execution_count": 9,
   "id": "56bbb956",
   "metadata": {},
   "outputs": [
    {
     "name": "stdout",
     "output_type": "stream",
     "text": [
      "Attrition Counts:\n",
      "  Attrition  Count\n",
      "0        No    811\n",
      "1       Yes    189\n"
     ]
    }
   ],
   "source": [
    "# Attrition Analysis\n",
    "attrition_counts = df['Attrition'].value_counts().reset_index()\n",
    "attrition_counts.columns = ['Attrition', 'Count']\n",
    "print(\"Attrition Counts:\")\n",
    "print(attrition_counts)"
   ]
  },
  {
   "cell_type": "code",
   "execution_count": null,
   "id": "85037cc6",
   "metadata": {},
   "outputs": [],
   "source": []
  },
  {
   "cell_type": "code",
   "execution_count": null,
   "id": "8e40e2f7",
   "metadata": {},
   "outputs": [],
   "source": []
  }
 ],
 "metadata": {
  "kernelspec": {
   "display_name": "Python 3",
   "language": "python",
   "name": "python3"
  },
  "language_info": {
   "codemirror_mode": {
    "name": "ipython",
    "version": 3
   },
   "file_extension": ".py",
   "mimetype": "text/x-python",
   "name": "python",
   "nbconvert_exporter": "python",
   "pygments_lexer": "ipython3",
   "version": "3.10.0"
  }
 },
 "nbformat": 4,
 "nbformat_minor": 5
}
